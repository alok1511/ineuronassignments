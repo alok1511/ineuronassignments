{
 "cells": [
  {
   "cell_type": "markdown",
   "id": "b0ea0326",
   "metadata": {},
   "source": [
    "# Python Assignment 3\n",
    "\n",
    "### Alok Shah"
   ]
  },
  {
   "cell_type": "markdown",
   "id": "7b415062",
   "metadata": {},
   "source": [
    "1.1 Write a Python Program to implement your own myreduce() function which works exactly\n",
    "like Python's built-in function reduce()"
   ]
  },
  {
   "cell_type": "code",
   "execution_count": 12,
   "id": "51cd9ea1",
   "metadata": {},
   "outputs": [],
   "source": [
    "def my_reduce(f, input_data, *args):\n",
    "\n",
    "    if hasattr(f, '__class__') != True:\n",
    "        raise TypeError(\n",
    "            \"Entered parameter for function is not a function. Kindly pass a function.\")\n",
    "\n",
    "    while len(input_data) > 1:\n",
    "        if len(input_data) > 2:\n",
    "            temp_store = f(input_data[0], input_data[1])\n",
    "            input_data.pop(0)\n",
    "            input_data.pop(0)\n",
    "            input_data.insert(0, temp_store)\n",
    "        else:\n",
    "            return f(input_data[0], input_data[1])"
   ]
  },
  {
   "cell_type": "code",
   "execution_count": 33,
   "id": "59979161",
   "metadata": {},
   "outputs": [],
   "source": [
    "def add(a, b):\n",
    "    return a+b"
   ]
  },
  {
   "cell_type": "code",
   "execution_count": 34,
   "id": "296f5254",
   "metadata": {},
   "outputs": [
    {
     "data": {
      "text/plain": [
       "45"
      ]
     },
     "execution_count": 34,
     "metadata": {},
     "output_type": "execute_result"
    }
   ],
   "source": [
    "my_reduce(add, [1, 2, 3, 4, 5, 6, 7, 8, 9])"
   ]
  },
  {
   "cell_type": "markdown",
   "id": "790406f6",
   "metadata": {},
   "source": [
    "1.2 Write a Python program to implement your own myfilter() function which works exactly\n",
    "like Python's built-in function filter()"
   ]
  },
  {
   "cell_type": "code",
   "execution_count": 53,
   "id": "50024aa6",
   "metadata": {},
   "outputs": [],
   "source": [
    "def my_filter(function, input_data, *args):\n",
    "\n",
    "    if hasattr(function, '__class__') != True:\n",
    "        raise TypeError(\n",
    "            \"Entered parameter for function is not a function. Kindly pass a function.\")\n",
    "\n",
    "    output_filtered_data = []\n",
    "    for i in range(0, len(input_data)):\n",
    "        if(function(input_data[i])) == True:\n",
    "            output_filtered_data.append(input_data[i])\n",
    "\n",
    "    return output_filtered_data"
   ]
  },
  {
   "cell_type": "code",
   "execution_count": 56,
   "id": "626be500",
   "metadata": {},
   "outputs": [
    {
     "data": {
      "text/plain": [
       "[123, 34, 454, 66]"
      ]
     },
     "execution_count": 56,
     "metadata": {},
     "output_type": "execute_result"
    }
   ],
   "source": [
    "my_filter(lambda x: x > 5, [123, 3, 34, 454, 66, 1, 2, 3, 5])"
   ]
  },
  {
   "cell_type": "code",
   "execution_count": 62,
   "id": "f0e95f5d",
   "metadata": {},
   "outputs": [
    {
     "data": {
      "text/plain": [
       "['alok']"
      ]
     },
     "execution_count": 62,
     "metadata": {},
     "output_type": "execute_result"
    }
   ],
   "source": [
    "my_filter(lambda x: str(x).isalpha(), [\"alok\", 5])"
   ]
  },
  {
   "cell_type": "markdown",
   "id": "2706e143",
   "metadata": {},
   "source": [
    "2. Implement List comprehensions to produce the following lists.\n",
    "\n",
    "Write List comprehensions to produce the following Lists<br>\n",
    "\n",
    "(a) ['x', 'xx', 'xxx', 'xxxx', 'y', 'yy', 'yyy', 'yyyy', 'z', 'zz', 'zzz', 'zzzz']"
   ]
  },
  {
   "cell_type": "code",
   "execution_count": 73,
   "id": "f6e2b95f",
   "metadata": {},
   "outputs": [
    {
     "data": {
      "text/plain": [
       "['x', 'xx', 'xxx', 'xxxx', 'y', 'yy', 'yyy', 'yyyy', 'z', 'zz', 'zzz', 'zzzz']"
      ]
     },
     "execution_count": 73,
     "metadata": {},
     "output_type": "execute_result"
    }
   ],
   "source": [
    "a = ['x', 'y', 'z']\n",
    "[a[i]*j for i in range(0, len(a)) for j in range(1, 5)]"
   ]
  },
  {
   "cell_type": "markdown",
   "id": "69d431d2",
   "metadata": {},
   "source": [
    "(b) ['x', 'y', 'z', 'xx', 'yy', 'zz', 'xxx', 'yyy', 'zzz', 'xxxx', 'yyyy', 'zzzz']"
   ]
  },
  {
   "cell_type": "code",
   "execution_count": 76,
   "id": "a7439bb2",
   "metadata": {},
   "outputs": [
    {
     "data": {
      "text/plain": [
       "['x', 'y', 'z', 'xx', 'yy', 'zz', 'xxx', 'yyy', 'zzz', 'xxxx', 'yyyy', 'zzzz']"
      ]
     },
     "execution_count": 76,
     "metadata": {},
     "output_type": "execute_result"
    }
   ],
   "source": [
    "a = ['x', 'y', 'z']\n",
    "[a[i]*j for j in range(1,5) for i in range(0, len(a))]"
   ]
  },
  {
   "cell_type": "markdown",
   "id": "b5635494",
   "metadata": {},
   "source": [
    "(c) [ [2], [3], [4], [3], [4], [5], [4], [5], [6] ] [ [2, 3, 4, 5], [3, 4, 5, 6],[4, 5, 6, 7], [5, 6, 7, 8] ]"
   ]
  },
  {
   "cell_type": "code",
   "execution_count": 270,
   "id": "a66f685f",
   "metadata": {},
   "outputs": [
    {
     "data": {
      "text/plain": [
       "[[2], [3], [4], [3], [4], [5], [4], [5], [6]]"
      ]
     },
     "execution_count": 270,
     "metadata": {},
     "output_type": "execute_result"
    }
   ],
   "source": [
    "[[i+j+2] for i in range(0,3) for j in range(0,3)]"
   ]
  },
  {
   "cell_type": "code",
   "execution_count": 273,
   "id": "2ff0909e",
   "metadata": {},
   "outputs": [
    {
     "data": {
      "text/plain": [
       "[[2, 3, 4, 5], [3, 4, 5, 6], [4, 5, 6, 7], [5, 6, 7, 8]]"
      ]
     },
     "execution_count": 273,
     "metadata": {},
     "output_type": "execute_result"
    }
   ],
   "source": [
    "[[i+2,i+3,i+4,i+5] for i in range(0,4)]"
   ]
  },
  {
   "cell_type": "markdown",
   "id": "908cec6c",
   "metadata": {},
   "source": [
    "(d) [(1, 1), (2, 1), (3, 1), (1, 2), (2, 2), (3, 2), (1, 3), (2, 3), (3, 3)]"
   ]
  },
  {
   "cell_type": "code",
   "execution_count": 264,
   "id": "030e3afa",
   "metadata": {},
   "outputs": [
    {
     "data": {
      "text/plain": [
       "[(1, 1), (2, 1), (3, 1), (1, 2), (2, 2), (3, 2), (1, 3), (2, 3), (3, 3)]"
      ]
     },
     "execution_count": 264,
     "metadata": {},
     "output_type": "execute_result"
    }
   ],
   "source": [
    "[(j,i) for i in range(1,4) for j in range(1,4)]"
   ]
  }
 ],
 "metadata": {
  "kernelspec": {
   "display_name": "Python 3",
   "language": "python",
   "name": "python3"
  },
  "language_info": {
   "codemirror_mode": {
    "name": "ipython",
    "version": 3
   },
   "file_extension": ".py",
   "mimetype": "text/x-python",
   "name": "python",
   "nbconvert_exporter": "python",
   "pygments_lexer": "ipython3",
   "version": "3.8.10"
  },
  "varInspector": {
   "cols": {
    "lenName": 16,
    "lenType": 16,
    "lenVar": 40
   },
   "kernels_config": {
    "python": {
     "delete_cmd_postfix": "",
     "delete_cmd_prefix": "del ",
     "library": "var_list.py",
     "varRefreshCmd": "print(var_dic_list())"
    },
    "r": {
     "delete_cmd_postfix": ") ",
     "delete_cmd_prefix": "rm(",
     "library": "var_list.r",
     "varRefreshCmd": "cat(var_dic_list()) "
    }
   },
   "position": {
    "height": "163px",
    "left": "1015px",
    "right": "20px",
    "top": "120px",
    "width": "346px"
   },
   "types_to_exclude": [
    "module",
    "function",
    "builtin_function_or_method",
    "instance",
    "_Feature"
   ],
   "window_display": false
  }
 },
 "nbformat": 4,
 "nbformat_minor": 5
}
