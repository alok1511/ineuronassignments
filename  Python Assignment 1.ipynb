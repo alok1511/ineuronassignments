{
 "cells": [
  {
   "cell_type": "markdown",
   "id": "e06166d7",
   "metadata": {},
   "source": [
    "# Python Assignment 1\n",
    "\n",
    "Alok Shah"
   ]
  },
  {
   "cell_type": "markdown",
   "id": "70c0f4ca",
   "metadata": {},
   "source": [
    "## 1. Create the below pattern using nested for loop in Python."
   ]
  },
  {
   "cell_type": "code",
   "execution_count": 1,
   "id": "b73286c8",
   "metadata": {},
   "outputs": [
    {
     "name": "stdout",
     "output_type": "stream",
     "text": [
      "*\n",
      "**\n",
      "***\n",
      "****\n",
      "*****\n",
      "****\n",
      "***\n",
      "**\n",
      "*\n"
     ]
    }
   ],
   "source": [
    "#Define size of the diamond\n",
    "n = 5\n",
    "\n",
    "#Nested for loop to print the top half of the diamond (until row n)\n",
    "for i in range(0,n):        # Initiate the for loop to print 'n' rows\n",
    "    for j in range(0,i+1):  # Initiate the for loop to print '*' for 'i' times in each row iterating through 0 to n\n",
    "        print(\"*\",end=\"\")   # print the '*'\n",
    "    print()                 # move to next line \n",
    "\n",
    "for i in range(1,n):        # Initiate the for loop to print 'n-1' rows\n",
    "    for j in range(0,n-i):  # Initiate the for loop to print '*' for 'n-i' times in each row iterating through 1 to n\n",
    "        print(\"*\", end=\"\")  # print the '*'\n",
    "    print()                 # move to next line "
   ]
  },
  {
   "cell_type": "markdown",
   "id": "7a7a8f17",
   "metadata": {},
   "source": [
    "## 2. Write a Python program to reverse a word after accepting the input from the user.\n",
    "\n",
    "Input word: ineuron\n",
    "\n",
    "Output: norueni"
   ]
  },
  {
   "cell_type": "code",
   "execution_count": 2,
   "id": "9b959888",
   "metadata": {},
   "outputs": [
    {
     "name": "stdout",
     "output_type": "stream",
     "text": [
      "Please enter the word that you want to reverse: inueron\n",
      "Input word: inueron\n",
      "Output: noreuni\n"
     ]
    }
   ],
   "source": [
    "s = input(\"Please enter the word that you want to reverse: \")\n",
    "print(\"Input word: {}\".format(s))\n",
    "print(\"Output: {}\".format(s[::-1]))"
   ]
  },
  {
   "cell_type": "code",
   "execution_count": null,
   "id": "9c019e32",
   "metadata": {},
   "outputs": [],
   "source": []
  }
 ],
 "metadata": {
  "kernelspec": {
   "display_name": "Python 3",
   "language": "python",
   "name": "python3"
  },
  "language_info": {
   "codemirror_mode": {
    "name": "ipython",
    "version": 3
   },
   "file_extension": ".py",
   "mimetype": "text/x-python",
   "name": "python",
   "nbconvert_exporter": "python",
   "pygments_lexer": "ipython3",
   "version": "3.8.8"
  }
 },
 "nbformat": 4,
 "nbformat_minor": 5
}
